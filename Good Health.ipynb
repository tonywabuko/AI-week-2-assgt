{
 "cells": [
  {
   "cell_type": "code",
   "execution_count": 2,
   "id": "a379b412-320f-47a0-96e2-23fb4cdfb235",
   "metadata": {},
   "outputs": [],
   "source": [
    "import pandas as pd\n",
    "import numpy as np\n",
    "from sklearn.preprocessing import StandardScaler, LabelEncoder\n",
    "from sklearn.cluster import KMeans\n",
    "import matplotlib.pyplot as plt\n",
    "import seaborn as sns"
   ]
  },
  {
   "cell_type": "code",
   "execution_count": 3,
   "id": "5f26d022-48b3-4d59-93b3-9c458aa13061",
   "metadata": {},
   "outputs": [],
   "source": [
    "np.random.seed(42)\n",
    "n_samples = 200"
   ]
  },
  {
   "cell_type": "code",
   "execution_count": 4,
   "id": "0d0ebd4e-b3de-4761-b951-93bacb846994",
   "metadata": {},
   "outputs": [],
   "source": [
    "data = pd.DataFrame({\n",
    "    'Age': np.random.randint(18, 80, n_samples),\n",
    "    'Billing Amount':np.random.randint(100, 10000, n_samples),\n",
    "    'Medical Condition': np.random.choice(['Diabetes', 'Hypertension', 'Asthma', 'Healthy'], n_samples)\n",
    "})"
   ]
  },
  {
   "cell_type": "code",
   "execution_count": 5,
   "id": "ce015a9f-0d5f-4371-9148-f73b1fad1779",
   "metadata": {},
   "outputs": [],
   "source": [
    "le = LabelEncoder()\n",
    "data['Medical Condition Encoded'] = le.fit_transform(data['Medical Condition'])"
   ]
  },
  {
   "cell_type": "code",
   "execution_count": 6,
   "id": "fb365e03-aea6-4a4f-9b10-94ffe4fc3b47",
   "metadata": {},
   "outputs": [],
   "source": [
    "features = data[['Age', 'Billing Amount', 'Medical Condition Encoded']]"
   ]
  },
  {
   "cell_type": "code",
   "execution_count": 8,
   "id": "17f57ae4-5e1d-4ecf-a573-1490b48446cf",
   "metadata": {},
   "outputs": [],
   "source": [
    "scaler = StandardScaler()\n",
    "scaled_features = scaler.fit_transform(features)"
   ]
  },
  {
   "cell_type": "code",
   "execution_count": null,
   "id": "e59e61db-28c7-44a4-b37f-67a2c94b18f9",
   "metadata": {},
   "outputs": [],
   "source": [
    "kmeans = KMeans(n_clusters=4, random_state=42)\n",
    "clusters = K"
   ]
  }
 ],
 "metadata": {
  "kernelspec": {
   "display_name": "anaconda-panel-2023.05-py310",
   "language": "python",
   "name": "conda-env-anaconda-panel-2023.05-py310-py"
  },
  "language_info": {
   "codemirror_mode": {
    "name": "ipython",
    "version": 3
   },
   "file_extension": ".py",
   "mimetype": "text/x-python",
   "name": "python",
   "nbconvert_exporter": "python",
   "pygments_lexer": "ipython3",
   "version": "3.11.5"
  }
 },
 "nbformat": 4,
 "nbformat_minor": 5
}
